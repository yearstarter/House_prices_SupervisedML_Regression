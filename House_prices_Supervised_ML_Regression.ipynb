{
 "cells": [
  {
   "cell_type": "markdown",
   "metadata": {
    "id": "4-cbwXG-aZnk"
   },
   "source": [
    "# Reading, cleaning"
   ]
  },
  {
   "cell_type": "code",
   "execution_count": null,
   "metadata": {
    "id": "-PqW5_8tZcab"
   },
   "outputs": [],
   "source": [
    "import pandas as pd\n",
    "import seaborn as sns\n",
    "import matplotlib.pyplot as plt\n",
    "import numpy as np\n",
    "\n",
    "from sklearn.model_selection import train_test_split, GridSearchCV\n",
    "from sklearn.impute import SimpleImputer\n",
    "from sklearn.tree import DecisionTreeRegressor\n",
    "from sklearn.metrics import accuracy_score, mean_absolute_error, r2_score\n",
    "from sklearn.metrics import mean_squared_error, mean_absolute_percentage_error, mean_squared_log_error\n",
    "from sklearn.pipeline import make_pipeline\n",
    "from sklearn.preprocessing import OneHotEncoder, OrdinalEncoder\n",
    "from sklearn.preprocessing import StandardScaler, MinMaxScaler\n",
    "from sklearn.compose import ColumnTransformer\n",
    "from sklearn.linear_model import LinearRegression, SGDRegressor\n",
    "from sklearn.datasets import make_regression\n",
    "from sklearn.neighbors import KNeighborsRegressor\n",
    "from sklearn.feature_selection import VarianceThreshold, SelectKBest, f_regression, RFECV, SelectFromModel\n",
    "from sklearn.ensemble import RandomForestRegressor\n",
    "from sklearn.decomposition import PCA\n",
    "\n",
    "import time\n",
    "\n",
    "from sklearn import set_config\n",
    "import warnings\n",
    "from google.colab import files\n",
    "\n",
    "warnings.filterwarnings('ignore')\n",
    "pd.options.display.float_format = '{:.3f}'.format\n",
    "\n",
    "url = '' # link to a csv-file on google drive\n",
    "path = 'https://drive.google.com/uc?export=download&id='+url.split('/')[-2]\n",
    "data_original = pd.read_csv(path)\n",
    "\n",
    "# drop 'Id' as it contains unique values only\n",
    "X = data_original.drop(columns=['Id'])\n",
    "\n",
    "# split to X and y\n",
    "y = X.pop('SalePrice')\n",
    "\n",
    "# split to train/test\n",
    "X_train, X_test, y_train, y_test = train_test_split(X, y, test_size=0.2, random_state=123)"
   ]
  },
  {
   "cell_type": "markdown",
   "metadata": {
    "id": "Klo0amoNaZ_d"
   },
   "source": [
    "# Preprocessing pipeline (impute + convert to num + scale)"
   ]
  },
  {
   "cell_type": "code",
   "execution_count": null,
   "metadata": {
    "colab": {
     "base_uri": "https://localhost:8080/",
     "height": 293
    },
    "id": "WSzhyPjxaYYO",
    "outputId": "0141b601-bc9b-4bb3-f2e4-780ee0a8d496"
   },
   "outputs": [],
   "source": [
    "X_cat = X.select_dtypes(exclude='number').copy()\n",
    "X_num = X.select_dtypes(include='number').copy()\n",
    "\n",
    "# numerical brunch\n",
    "num_constant_cols = ['GarageYrBlt']\n",
    "num_mean_median_cols = list(X_num.drop(columns = num_constant_cols)) # list of indexes for ColumnTransformer\n",
    "\n",
    "# categorical brunch\n",
    "cat_nan_frequent_list = ['MasVnrType', 'Electrical', 'Utilities',\n",
    "                         'ExterQual', 'HeatingQC', 'ExterCond',\n",
    "                         'KitchenQual', 'Functional', 'LandSlope',\n",
    "                         'CentralAir']\n",
    "\n",
    "cat_nan_frequent_cols = X_cat.columns.get_indexer(cat_nan_frequent_list) # list of indexes for ColumnTransformer\n",
    "cat_nan_fill_cols = list(X_cat.drop(X_cat.columns[cat_nan_frequent_cols], axis = 1)) # list of indexes for ColumnTransformer\n",
    "\n",
    "#### strategy 'most_frequent' seems to work incorrectly, therefore 'N_A' is needed in columns like ExterQual below)\n",
    "categorical_imputer = ColumnTransformer(\n",
    "    transformers=[\n",
    "        ('cat_nan_frequent', SimpleImputer(strategy='most_frequent'), cat_nan_frequent_cols),\n",
    "        ('cat_nan_fill', SimpleImputer(strategy='constant', fill_value='N_A'), cat_nan_fill_cols)\n",
    "        ]\n",
    ")\n",
    "\n",
    "cat_ordinal_list = ['ExterQual', 'ExterCond', 'BsmtQual', 'BsmtCond',\n",
    "                    'BsmtExposure', 'HeatingQC', 'KitchenQual', 'Functional',\n",
    "                    'FireplaceQu', 'GarageQual', 'GarageCond', 'PoolQC',\n",
    "                    'Fence', 'Utilities', 'LandSlope', 'BsmtFinType1',\n",
    "                    'BsmtFinType2', 'CentralAir', 'GarageFinish']\n",
    "\n",
    "cat_ordinal_cols = X_cat.columns.get_indexer(cat_ordinal_list)\n",
    "\n",
    "# \"N_A\" everywhere here helped, though imputer above should avoid NaNs to appear\n",
    "ordinal_features_categories = [['Ex', 'Gd', 'TA', 'Fa', 'Po', 'N_A'],  # ExterQual\n",
    "                               ['Ex', 'Gd', 'TA', 'Fa', 'Po', 'N_A'],  # ExterCond\n",
    "                               ['Ex', 'Gd', 'TA', 'Fa', 'Po', 'N_A'],  # BsmtQual\n",
    "                               ['Ex', 'Gd', 'TA', 'Fa', 'Po', 'N_A'],  # BsmtCond\n",
    "                               ['Gd', 'Av', 'Mn', 'No', 'N_A'],        # BsmtExposure\n",
    "                               ['Ex', 'Gd', 'TA', 'Fa', 'Po', 'N_A'],  # HeatingQC\n",
    "                               ['Ex', 'Gd', 'TA', 'Fa', 'Po', 'N_A'],  # KitchenQual\n",
    "                               ['Typ', 'Min1', 'Min2', 'Mod', 'Maj1', \n",
    "                                'Maj2','Sev', 'Sal', 'N_A'],           # Functional\n",
    "                               ['Ex', 'Gd', 'TA', 'Fa', 'Po', 'N_A'],  # FireplaceQu\n",
    "                               ['Ex', 'Gd', 'TA', 'Fa', 'Po', 'N_A'],  # GarageQual\n",
    "                               ['Ex', 'Gd', 'TA', 'Fa', 'Po', 'N_A'],  # GarageCond\n",
    "                               ['Ex', 'Gd', 'TA', 'Fa', 'Po', 'N_A'],  # PoolQC\n",
    "                               ['GdPrv', 'MnPrv', 'GdWo', 'MnWw', 'N_A'],  # Fence\n",
    "                               ['AllPub', 'NoSewr', 'NoSeWa', 'ELO', 'N_A'],  # Utilities\n",
    "                               ['Gtl', 'Mod', 'Sev', 'N_A'],           # LandSlope\n",
    "                               ['GLQ', 'ALQ', 'BLQ', 'Rec', 'LwQ', 'Unf', 'N_A'],  # BsmtFinType1\n",
    "                               ['GLQ', 'ALQ', 'BLQ', 'Rec', 'LwQ', 'Unf', 'N_A'],   # BsmtFinType2\n",
    "                               ['Y', 'N', 'N_A'],                      # CentralAir\n",
    "                               ['Fin', 'RFn', 'Unf', 'N_A']]           # GarageFinish\n",
    "\n",
    "cat_onehot_list = list(X_cat.drop(X_cat.columns[cat_ordinal_cols], axis = 1))\n",
    "cat_onehot_cols = X_cat.columns.get_indexer(cat_onehot_list)\n",
    "\n",
    "categorical_encoder = ColumnTransformer(\n",
    "    transformers=[\n",
    "        ('cat_ordinal',\n",
    "         OrdinalEncoder(categories = ordinal_features_categories),\n",
    "         cat_ordinal_cols),\n",
    "        ('cat_onehot',\n",
    "         OneHotEncoder(handle_unknown='ignore',\n",
    "                       drop='first',), # this parameter reduce feature number (after full_preprocessor) from 229 to 205\n",
    "         cat_onehot_cols)\n",
    "    ]\n",
    ")\n",
    "\n",
    "cat_pipe = make_pipeline(SimpleImputer(strategy='constant', fill_value='N_A'),\n",
    "                         categorical_encoder)\n",
    "\n",
    "# preprocessing pipe for all columns\n",
    "preprocessor = ColumnTransformer(\n",
    "    transformers=[\n",
    "        ('num_pipe', SimpleImputer(), X_num.columns),\n",
    "        ('cat_pipe', cat_pipe, X_cat.columns),\n",
    "    ]\n",
    ")\n",
    "\n",
    "full_preprocessor = make_pipeline(preprocessor, MinMaxScaler())# .set_output(transform=\"pandas\")\n",
    "\n",
    "set_config(display='diagram')\n",
    "full_preprocessor\n"
   ]
  },
  {
   "cell_type": "markdown",
   "metadata": {
    "id": "cwh1bY3v38pf"
   },
   "source": [
    "# RandomForestRegressor - parameter search with GridSearchCV"
   ]
  },
  {
   "cell_type": "code",
   "execution_count": null,
   "metadata": {
    "colab": {
     "base_uri": "https://localhost:8080/"
    },
    "id": "WWAOcpc3m3Ly",
    "outputId": "ae2402a5-de53-4dc8-858f-32fc7d57c778"
   },
   "outputs": [],
   "source": [
    "# define parameter grid\n",
    "start_time = time.time()\n",
    "\n",
    "rf_param_grid = {\n",
    "    'randomforestregressor__n_estimators': range(130, 180, 10),  # Number of trees in the forest\n",
    "    'randomforestregressor__max_depth': range(12, 16, 1),        # Maximum depth of each decision tree\n",
    "    'randomforestregressor__min_samples_split': range(1, 7, 1),  # Minimum number of samples required to split an internal node\n",
    "    }\n",
    "\n",
    "\n",
    "# define GridSearchCV\n",
    "rf_search = GridSearchCV(rf_pipeline,\n",
    "                         param_grid=rf_param_grid,\n",
    "                         cv=5,\n",
    "                         scoring='neg_mean_squared_log_error',\n",
    "                         n_jobs=-1,\n",
    "                         verbose=1\n",
    "                         # error_score='raise'\n",
    "                         )\n",
    "\n",
    "rf_search.fit(X_train, y_train)\n",
    "\n",
    "rf_predictions_search = rf_search.predict(X_test)\n",
    "\n",
    "end_time = time.time()\n",
    "time_taken = end_time - start_time\n",
    "\n",
    "print(f'The best average score in GridSearchCV: {rf_search.best_score_}')\n",
    "print(f'The best parameters in GridSearchCV: {rf_search.best_params_}')\n",
    "print(f'The test MSLE: {mean_squared_log_error(rf_predictions_search, y_test)}')\n",
    "print(\"--- %s seconds ---\" % (time_taken))\n"
   ]
  },
  {
   "cell_type": "markdown",
   "metadata": {
    "id": "fMgeeGXaIPzV"
   },
   "source": [
    "# RandomForestRegressor - manual parameter set up"
   ]
  },
  {
   "cell_type": "code",
   "execution_count": null,
   "metadata": {
    "colab": {
     "base_uri": "https://localhost:8080/"
    },
    "id": "DS6AyKrvIVg0",
    "outputId": "63b35b09-b0e2-4d05-d0da-624103ab6c54"
   },
   "outputs": [],
   "source": [
    "rf_pipeline = make_pipeline(full_preprocessor,\n",
    "                            RandomForestRegressor(n_estimators=130,\n",
    "                                                  max_depth=15,\n",
    "                                                  min_samples_split=4))\n",
    "\n",
    "rf_pipeline.fit(X_train, y_train)\n",
    "\n",
    "rf_predictions = rf_pipeline.predict(X_test)\n",
    "\n",
    "print(f'The test MSLE: {mean_squared_log_error(rf_predictions, y_test)}')"
   ]
  },
  {
   "cell_type": "markdown",
   "metadata": {
    "id": "e-bQMovP0UjA"
   },
   "source": [
    "# TEST DATASET FROM KAGGLE.COM"
   ]
  },
  {
   "cell_type": "code",
   "execution_count": null,
   "metadata": {
    "id": "Oo2A2dlbTXoD"
   },
   "outputs": [],
   "source": [
    "url_prod = '' # link to a csv-file on google drive\n",
    "path_prod = 'https://drive.google.com/uc?export=download&id='+url_prod.split('/')[-2]\n",
    "data_prod_original = pd.read_csv(path_prod)"
   ]
  },
  {
   "cell_type": "code",
   "execution_count": null,
   "metadata": {
    "colab": {
     "base_uri": "https://localhost:8080/",
     "height": 424
    },
    "id": "DLn0TVDCUUSa",
    "outputId": "f6ca336f-b62c-43fd-83eb-69fb38cb473c"
   },
   "outputs": [],
   "source": [
    "X_prod = data_prod_original.copy()\n",
    "df_predict = X_prod.pop('Id').to_frame()\n",
    "\n",
    "y_predict = rf_pipeline.predict(X_prod)\n",
    "\n",
    "df_predict['SalePrice'] = y_predict\n",
    "df_predict"
   ]
  },
  {
   "cell_type": "markdown",
   "metadata": {
    "id": "0MPG1oTatxgk"
   },
   "source": [
    "## Download the datframe with price prediction"
   ]
  },
  {
   "cell_type": "code",
   "execution_count": null,
   "metadata": {
    "colab": {
     "base_uri": "https://localhost:8080/",
     "height": 17
    },
    "id": "gZubzWEHXxrq",
    "outputId": "6a568a03-3b5d-457f-d002-c257f28937d4"
   },
   "outputs": [],
   "source": [
    "output_path = 'sample_submission.csv'\n",
    "df_predict.to_csv(output_path, index=False)\n",
    "files.download('sample_submission.csv')"
   ]
  }
 ],
 "metadata": {
  "colab": {
   "provenance": [],
   "toc_visible": true
  },
  "kernelspec": {
   "display_name": "Python 3 (ipykernel)",
   "language": "python",
   "name": "python3"
  },
  "language_info": {
   "codemirror_mode": {
    "name": "ipython",
    "version": 3
   },
   "file_extension": ".py",
   "mimetype": "text/x-python",
   "name": "python",
   "nbconvert_exporter": "python",
   "pygments_lexer": "ipython3",
   "version": "3.11.4"
  }
 },
 "nbformat": 4,
 "nbformat_minor": 4
}
